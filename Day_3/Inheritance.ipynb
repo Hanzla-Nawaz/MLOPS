{
 "cells": [
  {
   "cell_type": "markdown",
   "metadata": {},
   "source": [
    "### Basics of Inheritance"
   ]
  },
  {
   "cell_type": "code",
   "execution_count": 1,
   "metadata": {},
   "outputs": [],
   "source": [
    "class Car:\n",
    "    def __init__(self, name,doors,engine):\n",
    "        self.name = name\n",
    "        self.doors = doors\n",
    "        self.engine = engine\n",
    "    def drive(self):\n",
    "        print(f\"ALi drinving {self.name} having {self.doors} doors and {self.engine} engine\")\n",
    "        \n",
    "\n"
   ]
  },
  {
   "cell_type": "code",
   "execution_count": 2,
   "metadata": {},
   "outputs": [],
   "source": [
    "car1 = Car(\"Toyota\",4,\"1.6L\")"
   ]
  },
  {
   "cell_type": "code",
   "execution_count": 4,
   "metadata": {},
   "outputs": [
    {
     "name": "stdout",
     "output_type": "stream",
     "text": [
      "ALi drinving Toyota having 4 doors and 1.6L engine\n"
     ]
    }
   ],
   "source": [
    "car1.drive()"
   ]
  },
  {
   "cell_type": "code",
   "execution_count": 5,
   "metadata": {},
   "outputs": [],
   "source": [
    "class Tesla(Car):\n",
    "    def __init__(self, name,doors,engine,battery):\n",
    "        super().__init__(name,doors,engine)\n",
    "        self.battery = battery\n",
    "\n",
    "    def drive(self):\n",
    "        print(f\"ALi drinving {self.name} having {self.doors} doors and {self.engine} engine and {self.battery} battery\")\n",
    "\n",
    "car2 = Tesla(\"Tesla\",4,200,100)"
   ]
  },
  {
   "cell_type": "code",
   "execution_count": 6,
   "metadata": {},
   "outputs": [
    {
     "name": "stdout",
     "output_type": "stream",
     "text": [
      "ALi drinving Tesla having 4 doors and 200 engine and 100 battery\n"
     ]
    }
   ],
   "source": [
    "car2.drive()"
   ]
  },
  {
   "cell_type": "code",
   "execution_count": 44,
   "metadata": {},
   "outputs": [
    {
     "name": "stdout",
     "output_type": "stream",
     "text": [
      "Generic Animal is barking\n",
      "Buddy barks\n",
      "Buddy is playing with Hanzla\n"
     ]
    },
    {
     "data": {
      "text/plain": [
       "\"child can get Parent constructor\\nchild can get attributes\\nchild can get methods \\nchild can override methods\\nbut parent can't get child constructor, attributes, methods\\nwhen applying encapsulation we can't access the private attributes and methods of parent\\n\""
      ]
     },
     "execution_count": 44,
     "metadata": {},
     "output_type": "execute_result"
    }
   ],
   "source": [
    "class Animal: \n",
    "    def __init__(self,name): # in constructor we pass the name of the animal\n",
    "        self.name = name\n",
    "\n",
    "    def speak(self): # this is a method of the animal class \n",
    "        print(f\"{self.name} is barking\")\n",
    "\n",
    "animal1 = Animal(\"Generic Animal\") # this is an instance of the animal class, we providing argument to the constructor\n",
    "animal1.speak() # this is a method of the animal class, we calling the method of the animal class\n",
    "\n",
    "class Dog(Animal):\n",
    "    def __init__(self,name,owner):\n",
    "        super().__init__(name)\n",
    "        self.owner = owner\n",
    "     # this is a child class of the animal class, pass the parent class as an argument\n",
    "    def speak(self): # this is the method of the child class\n",
    "        print(f\"{self.name} barks\") # here self.name attribute is coming from the parent class\n",
    "    def play(self):\n",
    "        print(f\"{self.name} is playing with {self.owner}\")\n",
    "dog = Dog(\"Buddy\",\"Hanzla\") # here we are passing the argument to the child class, which is then passed to the parent class\n",
    "dog.speak() # this is present in both parent and child class, but we are calling the method of the child class not parent class here method overriding is happening \n",
    "dog.play()\n",
    "\n",
    "\n",
    "'''child can get Parent constructor\n",
    "child can get attributes\n",
    "child can get methods \n",
    "child can override methods\n",
    "but parent can't get child constructor, attributes, methods\n",
    "when applying encapsulation we can't access the private attributes and methods of parent\n",
    "'''\n"
   ]
  },
  {
   "cell_type": "markdown",
   "metadata": {},
   "source": [
    "### Constructor overloading"
   ]
  },
  {
   "cell_type": "code",
   "execution_count": 48,
   "metadata": {},
   "outputs": [
    {
     "name": "stdout",
     "output_type": "stream",
     "text": [
      "Generic Animal is barking\n",
      "Generic Animal is playing with Hanzla\n"
     ]
    }
   ],
   "source": [
    "class Animal:\n",
    "    def __init__(self,name,owner):\n",
    "        self.name = name\n",
    "        self.owner = owner\n",
    "\n",
    "    def speak(self):\n",
    "        print(f\"{self.name} is barking\")\n",
    "\n",
    "class play(Animal): # this is a child class of the animal class, pass the parent class as an argument\n",
    "    def play(self): \n",
    "        print(f\"{self.name} is playing with {self.owner}\")\n",
    "    \n",
    "animal1 = Animal(\"Generic Animal\")\n",
    "animal1.speak()\n",
    "animal2 = play(\"Generic Animal\",\"Hanzla\")\n",
    "animal2.play()\n"
   ]
  },
  {
   "cell_type": "code",
   "execution_count": 56,
   "metadata": {},
   "outputs": [
    {
     "name": "stdout",
     "output_type": "stream",
     "text": [
      "Generic Animal is playing with Hanzla\n"
     ]
    },
    {
     "data": {
      "text/plain": [
       "\"here we are doing constructor overloading by passing the argument to the child class and then passing the argument to the parent class\\nwhen we do not have constructor in child class we can pass the argument to the parent class, but we can't pass the argument to the parent class if we have constructor in child class\\nwe need constructor in child class when we have attributes in child class that not present in parent class or we want to add new attributes in child class\""
      ]
     },
     "execution_count": 56,
     "metadata": {},
     "output_type": "execute_result"
    }
   ],
   "source": [
    "\n",
    "# Constructor overloading \n",
    "class Animal:\n",
    "    def __init__(self,name):\n",
    "        self.name = name\n",
    "\n",
    "class play(Animal):\n",
    "    def __init__(self,name,owner):\n",
    "        self.owner = owner\n",
    "        super().__init__(name)\n",
    "    def play(self):\n",
    "        print(f\"{self.name} is playing with {self.owner}\")\n",
    "\n",
    "\n",
    "animal2 = play(\"Generic Animal\",\"Hanzla\")\n",
    "animal2.play()\n",
    "\n",
    "'''here we are doing constructor overloading by passing the argument to the child class and then passing the argument to the parent class\n",
    "when we do not have constructor in child class we can pass the argument to the parent class, but we can't pass the argument to the parent class if we have constructor in child class\n",
    "we need constructor in child class when we have attributes in child class that not present in parent class or we want to add new attributes in child class'''\n",
    "\n",
    "# super() is used to call the constructor of the parent class\n",
    "'''\n",
    "when we want to call the constructor of the parent class we use super().__init__(), when we want to call the method of the parent class we use super().method()\n",
    "these just called inside the class and child class not outside the child class\n",
    "it can't access variables/attributes of parent class\n",
    "'''\n"
   ]
  },
  {
   "cell_type": "code",
   "execution_count": null,
   "metadata": {},
   "outputs": [],
   "source": []
  }
 ],
 "metadata": {
  "kernelspec": {
   "display_name": "Python 3",
   "language": "python",
   "name": "python3"
  },
  "language_info": {
   "codemirror_mode": {
    "name": "ipython",
    "version": 3
   },
   "file_extension": ".py",
   "mimetype": "text/x-python",
   "name": "python",
   "nbconvert_exporter": "python",
   "pygments_lexer": "ipython3",
   "version": "3.13.3"
  }
 },
 "nbformat": 4,
 "nbformat_minor": 2
}
